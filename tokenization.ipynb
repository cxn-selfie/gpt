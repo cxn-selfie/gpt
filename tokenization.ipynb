{
 "cells": [
  {
   "cell_type": "code",
   "execution_count": 1,
   "metadata": {},
   "outputs": [
    {
     "name": "stdout",
     "output_type": "stream",
     "text": [
      "Requirement already satisfied: transformers in ./miniconda3/envs/xynten/lib/python3.10/site-packages (4.41.2)\n",
      "Requirement already satisfied: filelock in ./miniconda3/envs/xynten/lib/python3.10/site-packages (from transformers) (3.14.0)\n",
      "Requirement already satisfied: huggingface-hub<1.0,>=0.23.0 in ./miniconda3/envs/xynten/lib/python3.10/site-packages (from transformers) (0.23.0)\n",
      "Requirement already satisfied: numpy>=1.17 in ./miniconda3/envs/xynten/lib/python3.10/site-packages (from transformers) (1.26.4)\n",
      "Requirement already satisfied: packaging>=20.0 in ./.local/lib/python3.10/site-packages (from transformers) (24.1)\n",
      "Requirement already satisfied: pyyaml>=5.1 in ./miniconda3/envs/xynten/lib/python3.10/site-packages (from transformers) (6.0.1)\n",
      "Requirement already satisfied: regex!=2019.12.17 in ./miniconda3/envs/xynten/lib/python3.10/site-packages (from transformers) (2024.5.15)\n",
      "Requirement already satisfied: requests in ./miniconda3/envs/xynten/lib/python3.10/site-packages (from transformers) (2.31.0)\n",
      "Requirement already satisfied: tokenizers<0.20,>=0.19 in ./miniconda3/envs/xynten/lib/python3.10/site-packages (from transformers) (0.19.1)\n",
      "Requirement already satisfied: safetensors>=0.4.1 in ./miniconda3/envs/xynten/lib/python3.10/site-packages (from transformers) (0.4.3)\n",
      "Requirement already satisfied: tqdm>=4.27 in ./miniconda3/envs/xynten/lib/python3.10/site-packages (from transformers) (4.66.4)\n",
      "Requirement already satisfied: fsspec>=2023.5.0 in ./miniconda3/envs/xynten/lib/python3.10/site-packages (from huggingface-hub<1.0,>=0.23.0->transformers) (2024.3.1)\n",
      "Requirement already satisfied: typing-extensions>=3.7.4.3 in ./.local/lib/python3.10/site-packages (from huggingface-hub<1.0,>=0.23.0->transformers) (4.12.2)\n",
      "Requirement already satisfied: charset-normalizer<4,>=2 in ./miniconda3/envs/xynten/lib/python3.10/site-packages (from requests->transformers) (3.3.2)\n",
      "Requirement already satisfied: idna<4,>=2.5 in ./miniconda3/envs/xynten/lib/python3.10/site-packages (from requests->transformers) (3.7)\n",
      "Requirement already satisfied: urllib3<3,>=1.21.1 in ./miniconda3/envs/xynten/lib/python3.10/site-packages (from requests->transformers) (2.2.1)\n",
      "Requirement already satisfied: certifi>=2017.4.17 in ./miniconda3/envs/xynten/lib/python3.10/site-packages (from requests->transformers) (2024.2.2)\n"
     ]
    }
   ],
   "source": [
    "\"您好！🖼 （hello in Chinese)\"\n"
   ]
  },
  {
   "cell_type": "code",
   "execution_count": 18,
   "metadata": {},
   "outputs": [
    {
     "name": "stdout",
     "output_type": "stream",
     "text": [
      "23\n",
      "24744, 22909, 65281, 128444, 32, 65288, 104, 101, 108, 108, 111, 32, 105, 110, 32, 67, 104, 105, 110, 101, 115, 101, 41\n",
      "23\n"
     ]
    }
   ],
   "source": [
    "# unicode\n",
    "my_list = [ord(x) for x in \"您好！🖼 （hello in Chinese)\"]\n",
    "result = ', '.join(map(str, my_list))\n",
    "print(result)\n",
    "print(len(my_list))"
   ]
  },
  {
   "cell_type": "code",
   "execution_count": 17,
   "metadata": {},
   "outputs": [
    {
     "name": "stdout",
     "output_type": "stream",
     "text": [
      "230, 130, 168, 229, 165, 189, 239, 188, 129, 240, 159, 150, 188, 32, 239, 188, 136, 104, 101, 108, 108, 111, 32, 105, 110, 32, 67, 104, 105, 110, 101, 115, 101, 41\n",
      "34\n"
     ]
    }
   ],
   "source": [
    "#utf-8\n",
    "my_list = list(\"您好！🖼 （hello in Chinese)\".encode(\"utf-8\"))\n",
    "result = ', '.join(map(str, my_list))\n",
    "print(result)\n",
    "print(len(my_list))"
   ]
  },
  {
   "cell_type": "code",
   "execution_count": 27,
   "metadata": {},
   "outputs": [],
   "source": [
    "tokens = \"您好！🖼 （hello in Chinese)\".encode(\"utf-8\")\n",
    "idx = list(map(int,tokens))\n"
   ]
  },
  {
   "cell_type": "code",
   "execution_count": 33,
   "metadata": {},
   "outputs": [
    {
     "name": "stdout",
     "output_type": "stream",
     "text": [
      "(239, 188)\n"
     ]
    }
   ],
   "source": [
    "def get_count(idx):\n",
    "    counts = {}\n",
    "    for x in zip(idx, idx[1:]):\n",
    "        counts[x] = counts.get(x, 0) + 1\n",
    "    return counts\n",
    "\n",
    "\n",
    "states = get_count(idx)\n",
    "top_value = max(states, key=states.get)\n",
    "print(top_value)"
   ]
  },
  {
   "cell_type": "code",
   "execution_count": 38,
   "metadata": {},
   "outputs": [
    {
     "data": {
      "text/plain": [
       "[7, 9, 0, 9]"
      ]
     },
     "execution_count": 38,
     "metadata": {},
     "output_type": "execute_result"
    }
   ],
   "source": [
    "def merge(idx,top_value,index):\n",
    "    new_idx = []\n",
    "    i = 0\n",
    "    while  i < len(idx):\n",
    "        if i < len(idx)-1 and  idx[i] == top_value[0] and idx[i+1] == top_value[1]:\n",
    "            new_idx.append(index)\n",
    "            i += 2\n",
    "        else:\n",
    "            new_idx.append(idx[i])\n",
    "            i += 1\n",
    "    return new_idx\n",
    "\n",
    "merge([6,6,9,0,9],(6,6),7)\n"
   ]
  },
  {
   "cell_type": "code",
   "execution_count": 86,
   "metadata": {},
   "outputs": [
    {
     "name": "stdout",
     "output_type": "stream",
     "text": [
      "[230]\n",
      "[230, 130, 168, 229, 165, 189, 239, 188, 129, 240, 159, 150, 188, 32, 239, 188, 136, 104, 101, 108, 108, 111, 32, 105, 110, 32, 67, 104, 105, 110, 101, 115, 101, 41]\n"
     ]
    }
   ],
   "source": [
    "vocab = {idx: bytes([idx]) for idx in range(256)}\n",
    "merges = {\n",
    "    (104,105):257,\n",
    "    (7,7):258,\n",
    "    (8,7):259,\n",
    "    (9,8):260,\n",
    "    (100,2):261,\n",
    "}\n",
    "for (p1,p2),v in merges.items():\n",
    "    vocab[v] = vocab[p1] + vocab[p2]\n",
    "    # print(list(vocab[v]))\n",
    "\n",
    "# for k,v in vocab.items():\n",
    "#     print(list(v))\n",
    "print(list(vocab[230]))\n",
    "print(idx)"
   ]
  },
  {
   "cell_type": "code",
   "execution_count": 90,
   "metadata": {},
   "outputs": [
    {
     "name": "stdout",
     "output_type": "stream",
     "text": [
      "b'\\x80'\n",
      "�\n"
     ]
    },
    {
     "data": {
      "text/plain": [
       "'�'"
      ]
     },
     "execution_count": 90,
     "metadata": {},
     "output_type": "execute_result"
    }
   ],
   "source": [
    "def decode(idx):\n",
    "    tokens = b\"\".join(vocab[id] for id in idx)\n",
    "    print(tokens)\n",
    "    text = tokens.decode(\"utf-8\",errors=\"replace\")     \n",
    "    print(text)\n",
    "    return text\n",
    "\n",
    "# 128 不是所有的值都能被编码成utf-8\n",
    "# decode([103,257,102])\n",
    "decode([128])"
   ]
  },
  {
   "cell_type": "code",
   "execution_count": 107,
   "metadata": {},
   "outputs": [
    {
     "data": {
      "text/plain": [
       "[104]"
      ]
     },
     "execution_count": 107,
     "metadata": {},
     "output_type": "execute_result"
    }
   ],
   "source": [
    "\n",
    "merges = {\n",
    "    (104,105):257,\n",
    "    (101, 108):258,\n",
    "    (111, 32):259,\n",
    "    (9,8):260,\n",
    "    (100,2):261,\n",
    "}\n",
    "\n",
    "def encode(text):\n",
    "    token = list(text.encode('utf-8'))\n",
    "    while True:\n",
    "        count = get_count(token)\n",
    "        if count != {} :\n",
    "            pair = min(count,key=lambda p : merges.get(p,float('inf')))\n",
    "            # print(merges.get((9, 32),float('inf')))\n",
    "            # print(count)\n",
    "            # print(pair)\n",
    "            if pair not in merges:\n",
    "                break\n",
    "            idx = merges[pair]\n",
    "            token = merge(token,pair,idx)\n",
    "        else:\n",
    "            break\n",
    "    return token\n",
    "\n",
    "encode('hello world,hello human')"
   ]
  },
  {
   "cell_type": "code",
   "execution_count": 18,
   "metadata": {},
   "outputs": [
    {
     "name": "stdout",
     "output_type": "stream",
     "text": [
      "tensor([[ 5962, 22307,    25,   198,  8421,   356],\n",
      "        [ 5120,   597,  2252,    11,  3285,   502],\n",
      "        [ 2740,    13,   198,   198,  3237,    25],\n",
      "        [  198,  5248,   461,    11,  2740,    13]]) tensor([[22307,    25,   198,  8421,   356,  5120],\n",
      "        [  597,  2252,    11,  3285,   502,  2740],\n",
      "        [   13,   198,   198,  3237,    25,   198],\n",
      "        [ 5248,   461,    11,  2740,    13,   198]])\n"
     ]
    }
   ],
   "source": []
  }
 ],
 "metadata": {
  "kernelspec": {
   "display_name": "Python 3",
   "language": "python",
   "name": "python3"
  },
  "language_info": {
   "codemirror_mode": {
    "name": "ipython",
    "version": 3
   },
   "file_extension": ".py",
   "mimetype": "text/x-python",
   "name": "python",
   "nbconvert_exporter": "python",
   "pygments_lexer": "ipython3",
   "version": "3.10.12"
  }
 },
 "nbformat": 4,
 "nbformat_minor": 2
}
